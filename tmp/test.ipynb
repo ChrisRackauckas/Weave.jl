{
  "cells": [
    {
      "cell_type": "markdown",
      "source": [
        "% FIR filter design with Julia\n% Matti Pastell\n% 21th April 2016\n\n# Introduction\n\nThis an example of a julia script that can be published using\n[Weave](http://mpastell.github.io/Weave.jl/latest/usage/).\nThe script can be executed normally using Julia\nor published to HTML or pdf with Weave.\nText is written in markdown in lines starting with \"`#'` \" and code\nis executed and results are included in the published document.\n\nNotice that you don't need to define chunk options, but you can using\n`#+`. just before code e.g. `#+ term=True, caption='Fancy plots.'`.\nIf you're viewing the published version have a look at the\n[source](FIR_design_plots.jl) to see the markup.\n\n\n# FIR Filter Design\n\nWe'll implement lowpass, highpass and ' bandpass FIR filters. If\nyou want to read more about DSP I highly recommend [The Scientist\nand Engineer's Guide to Digital Signal\nProcessing](http://www.dspguide.com/) which is freely available\nonline.\n\n## Calculating frequency response\n\nDSP.jl package doesn't (yet) have a method to calculate the\nthe frequency response of a FIR filter so we define it:"
      ],
      "metadata": {}
    },
    {
      "outputs": [],
      "cell_type": "code",
      "source": [
        "using Plots, DSP\nplotly()\n\nfunction FIRfreqz(b::Array, w = linspace(0, π, 1024))\n    n = length(w)\n    h = Array{Complex64}(n)\n    sw = 0\n    for i = 1:n\n      for j = 1:length(b)\n        sw += b[j]*exp(-im*w[i])^-j\n      end\n      h[i] = sw\n      sw = 0\n    end\n    return h\nend"
      ],
      "metadata": {},
      "execution_count": null
    },
    {
      "cell_type": "markdown",
      "source": [
        "## Design Lowpass FIR filter\n\nDesigning a lowpass FIR filter is very simple to do with DSP.jl, all you\nneed to do is to define the window length, cut off frequency and the\nwindow. We will define a lowpass filter with cut off frequency at 5Hz for a signal\nsampled at 20 Hz.\nWe will use the Hamming window, which is defined as:\n$w(n) = \\alpha - \\beta\\cos\\frac{2\\pi n}{N-1}$, where $\\alpha=0.54$ and $\\beta=0.46$"
      ],
      "metadata": {}
    },
    {
      "outputs": [],
      "cell_type": "code",
      "source": [
        "fs = 20\nf = digitalfilter(Lowpass(5, fs = fs), FIRWindow(hamming(61)))\nw = linspace(0, pi, 1024)\nh = FIRfreqz(f, w)"
      ],
      "metadata": {},
      "execution_count": null
    },
    {
      "cell_type": "markdown",
      "source": [
        "## Plot the frequency and impulse response\n\nThe next code chunk is executed in term mode, see the [script](FIR_design.jl) for syntax."
      ],
      "metadata": {}
    },
    {
      "outputs": [],
      "cell_type": "code",
      "source": [
        "h_db = log10(abs(h));\nws = w/pi*(fs/2)"
      ],
      "metadata": {},
      "execution_count": null
    },
    {
      "outputs": [],
      "cell_type": "code",
      "source": [
        "plot(ws, h_db,\n      xlabel = \"Frequency (Hz)\", ylabel = \"Magnitude (db)\")"
      ],
      "metadata": {},
      "execution_count": null
    },
    {
      "cell_type": "markdown",
      "source": [
        "And again with default options"
      ],
      "metadata": {}
    },
    {
      "outputs": [],
      "cell_type": "code",
      "source": [
        "h_phase = unwrap(-atan2(imag(h),real(h)))\nplot(ws, h_phase,\n    xlabel = \"Frequency (Hz)\", ylabel = \"Phase (radians)\")"
      ],
      "metadata": {},
      "execution_count": null
    }
  ],
  "nbformat_minor": 2,
  "metadata": {
    "language_info": {
      "file_extension": ".jl",
      "mimetype": "application/julia",
      "name": "julia",
      "version": "0.5.0"
    },
    "kernelspec": {
      "name": "julia-0.5",
      "display_name": "Julia 0.5.0",
      "language": "julia"
    }
  },
  "nbformat": 4
}
